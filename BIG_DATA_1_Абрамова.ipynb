{
 "cells": [
  {
   "cell_type": "code",
   "execution_count": 1,
   "id": "fc3ed9ab-661e-44f1-b45c-f094415a2183",
   "metadata": {},
   "outputs": [],
   "source": [
    "import uuid\n",
    "import random\n",
    "import mmh3\n",
    "import math\n",
    "from scipy.integrate import quad\n",
    "import numpy as np"
   ]
  },
  {
   "cell_type": "code",
   "execution_count": 2,
   "id": "8a9df443-4fc1-4cc6-9020-322872175653",
   "metadata": {},
   "outputs": [],
   "source": [
    "def gen_uniq_seq(name, n_records, n_extra_cols=0):\n",
    "    with open(name, \"wt\") as f:\n",
    "        for i in range(n_records):\n",
    "            print(uuid.uuid4(), file=f, end=\"\")\n",
    "            for j in range(n_extra_cols):\n",
    "                print(f\",{uuid.uuid4()}\", file=f, end=\"\")\n",
    "            print(file=f)\n",
    "\n",
    "\n",
    "def gen_grouped_seq(name, pattern, *, n_extra_cols=0, to_shuffle=False):\n",
    "\n",
    "    def gen():\n",
    "        num = 0\n",
    "        for n_keys, n_records in pattern:\n",
    "            for i1 in range(n_keys):\n",
    "                body = f\"{i1 + num}:{uuid.uuid4()}\"\n",
    "                for i2 in range(n_records):\n",
    "                    for j in range(n_extra_cols):\n",
    "                        body += f\",{uuid.uuid4()}\"\n",
    "                    yield body\n",
    "            num += n_keys\n",
    "\n",
    "    if to_shuffle:\n",
    "        data = list(gen())\n",
    "        random.shuffle(data)\n",
    "        result = data\n",
    "    else:\n",
    "        result = gen()\n",
    "\n",
    "    with open(name, \"wt\") as f:\n",
    "        for v in result:\n",
    "            print(v, file=f)\n",
    "\n",
    "\n",
    "def random_merge(out_name, *in_names):\n",
    "    fs = [open(fn, \"rt\") for fn in in_names]\n",
    "    with open(out_name, \"wt\") as fout:\n",
    "        while fs:\n",
    "            f = random.choice(fs)\n",
    "            s = f.readline()\n",
    "            if not s:\n",
    "                f.close()\n",
    "                fs.remove(f)\n",
    "                continue\n",
    "            print(s, file=fout, end=\"\")"
   ]
  },
  {
   "cell_type": "markdown",
   "id": "a106e807-4fac-4b78-a3ea-d147cbe843c6",
   "metadata": {},
   "source": [
    "Задание 1\n",
    "Реализуем Bloom-Filter на одной хеш-функции"
   ]
  },
  {
   "cell_type": "code",
   "execution_count": 3,
   "id": "c0813852-ccf5-471d-9170-f9eada4a5809",
   "metadata": {},
   "outputs": [],
   "source": [
    "class BloomFilter:\n",
    "    def __init__(self, n):\n",
    "        self.k = 1\n",
    "        self.size = n\n",
    "        self.bit_array = 0\n",
    "\n",
    "    def put(self, s):\n",
    "        for i in range(self.k):\n",
    "            index = mmh3.hash(s, i) % self.size\n",
    "            self.bit_array |= (1 << index)\n",
    "\n",
    "    def get(self, s):\n",
    "        return all((self.bit_array & (1 << (mmh3.hash(s, i) % self.size))) != 0 for i in range(self.k))\n",
    "\n",
    "    def get_size(self):\n",
    "        return bin(self.bit_array).count('1') / self.k\n",
    "    "
   ]
  },
  {
   "cell_type": "markdown",
   "id": "8a7005ea-b9a6-499f-8dfd-907b96ed9958",
   "metadata": {},
   "source": [
    "Тестирование"
   ]
  },
  {
   "cell_type": "code",
   "execution_count": 4,
   "id": "e75daeb8-b8b0-4a69-867c-3e1e83e226c8",
   "metadata": {},
   "outputs": [
    {
     "name": "stdout",
     "output_type": "stream",
     "text": [
      "\n",
      "Результаты для k = 1:\n",
      "bf_size  | set_size  | fp_count  | ones_count\n",
      "---------|-----------|-----------|-----------\n",
      "       8 |         5 |         2 |        3.0\n",
      "       8 |        50 |        42 |        8.0\n",
      "       8 |       500 |       492 |        8.0\n",
      "       8 |      5000 |      4992 |        8.0\n",
      "      64 |         5 |         0 |        5.0\n",
      "      64 |        50 |        14 |       36.0\n",
      "      64 |       500 |       436 |       64.0\n",
      "      64 |      5000 |      4936 |       64.0\n",
      "    1024 |         5 |         0 |        5.0\n",
      "    1024 |        50 |         1 |       49.0\n",
      "    1024 |       500 |       103 |      397.0\n",
      "    1024 |      5000 |      3994 |     1006.0\n",
      "   64000 |         5 |         0 |        5.0\n",
      "   64000 |        50 |         0 |       50.0\n",
      "   64000 |       500 |         3 |      497.0\n",
      "   64000 |      5000 |       188 |     4812.0\n"
     ]
    }
   ],
   "source": [
    "\n",
    "bf_sizes = [8, 64, 1024, 64000]\n",
    "set_sizes = [5, 50, 500, 5000]\n",
    "k_values = [1]\n",
    "\n",
    "for s in set_sizes:\n",
    "    gen_uniq_seq(\"Size_\" + str(s), s)\n",
    "\n",
    "results = []\n",
    "\n",
    "for k in k_values:\n",
    "    print(f\"\\nРезультаты для k = {k}:\")\n",
    "\n",
    "    for i in bf_sizes:\n",
    "        for j in set_sizes:\n",
    "            bf = BloomFilter(i)\n",
    "            fp_count = 0\n",
    "            with open(\"Size_\" + str(j), 'r') as file:\n",
    "                for s in file:\n",
    "                    result = bf.get(s.strip())\n",
    "                    if result: \n",
    "                        fp_count += 1\n",
    "                    bf.put(s.strip())\n",
    "\n",
    "            ones_count = round(bf.get_size(), 2)\n",
    "\n",
    "            results.append([k, i, j, fp_count, ones_count])\n",
    "\n",
    "    print(\"bf_size  | set_size  | fp_count  | ones_count\")\n",
    "    print(\"---------|-----------|-----------|-----------\")\n",
    "\n",
    "\n",
    "    for k_val, bf_size, set_size, fp_count, ones_count in results:\n",
    "        print(f\"{bf_size:8} | {set_size:9} | {fp_count:9} | {ones_count:10}\")\n",
    "\n",
    "    results.clear()\n"
   ]
  },
  {
   "cell_type": "markdown",
   "id": "aeee90cb-e105-4afa-a198-7b2237664457",
   "metadata": {},
   "source": [
    "Результаты выглядят корректными: set_size = fp_count + ones_count, при увеличении размера словаря, вероятность коллизии уменьшается"
   ]
  },
  {
   "cell_type": "markdown",
   "id": "23e9608e-a980-4b59-9e02-5020073874e7",
   "metadata": {},
   "source": [
    "Задание 2\n",
    "Реализуем Bloom Filter на к хеш-функций"
   ]
  },
  {
   "cell_type": "code",
   "execution_count": 60,
   "id": "023ea86d-bad1-426f-bf56-a7bdf10e8130",
   "metadata": {},
   "outputs": [],
   "source": [
    "class BloomFilter:\n",
    "    def __init__(self, k, n):\n",
    "        self.k = k\n",
    "        self.size = n\n",
    "        self.bit_array = 0\n",
    "\n",
    "    def put(self, s):\n",
    "        for i in range(self.k):\n",
    "            index = mmh3.hash(s, i) % self.size\n",
    "            self.bit_array |= (1 << index)\n",
    "\n",
    "    def get(self, s):\n",
    "        return all((self.bit_array & (1 << (mmh3.hash(s, i) % self.size))) != 0 for i in range(self.k))\n",
    "\n",
    "    def get_size(self):\n",
    "        return bin(self.bit_array).count('1') / self.k"
   ]
  },
  {
   "cell_type": "code",
   "execution_count": 61,
   "id": "6ee28fcc-a084-4e16-973b-43be57e17e7f",
   "metadata": {},
   "outputs": [
    {
     "name": "stdout",
     "output_type": "stream",
     "text": [
      "\n",
      "Результаты для k = 1:\n",
      "bf_size  | set_size  | fp_count  | ones_count\n",
      "---------|-----------|-----------|-----------\n",
      "       8 |         5 |         2 |        3.0\n",
      "       8 |        50 |        42 |        8.0\n",
      "       8 |       500 |       492 |        8.0\n",
      "       8 |      5000 |      4992 |        8.0\n",
      "      64 |         5 |         0 |        5.0\n",
      "      64 |        50 |        14 |       36.0\n",
      "      64 |       500 |       436 |       64.0\n",
      "      64 |      5000 |      4936 |       64.0\n",
      "    1024 |         5 |         0 |        5.0\n",
      "    1024 |        50 |         1 |       49.0\n",
      "    1024 |       500 |       103 |      397.0\n",
      "    1024 |      5000 |      3994 |     1006.0\n",
      "   64000 |         5 |         0 |        5.0\n",
      "   64000 |        50 |         0 |       50.0\n",
      "   64000 |       500 |         3 |      497.0\n",
      "   64000 |      5000 |       188 |     4812.0\n",
      "\n",
      "Результаты для k = 2:\n",
      "bf_size  | set_size  | fp_count  | ones_count\n",
      "---------|-----------|-----------|-----------\n",
      "       8 |         5 |         2 |        2.0\n",
      "       8 |        50 |        44 |        4.0\n",
      "       8 |       500 |       494 |        4.0\n",
      "       8 |      5000 |      4994 |        4.0\n",
      "      64 |         5 |         0 |        5.0\n",
      "      64 |        50 |        13 |       26.5\n",
      "      64 |       500 |       454 |       32.0\n",
      "      64 |      5000 |      4951 |       32.0\n",
      "    1024 |         5 |         0 |        5.0\n",
      "    1024 |        50 |         0 |       48.5\n",
      "    1024 |       500 |        72 |      324.5\n",
      "    1024 |      5000 |      4229 |      512.0\n",
      "   64000 |         5 |         0 |        5.0\n",
      "   64000 |        50 |         0 |       50.0\n",
      "   64000 |       500 |         0 |      497.0\n",
      "   64000 |      5000 |        29 |     4633.0\n",
      "\n",
      "Результаты для k = 3:\n",
      "bf_size  | set_size  | fp_count  | ones_count\n",
      "---------|-----------|-----------|-----------\n",
      "       8 |         5 |         2 |       1.67\n",
      "       8 |        50 |        46 |       2.67\n",
      "       8 |       500 |       495 |       2.67\n",
      "       8 |      5000 |      4995 |       2.67\n",
      "      64 |         5 |         0 |        4.0\n",
      "      64 |        50 |        17 |      19.67\n",
      "      64 |       500 |       459 |      21.33\n",
      "      64 |      5000 |      4957 |      21.33\n",
      "    1024 |         5 |         0 |        5.0\n",
      "    1024 |        50 |         0 |      47.33\n",
      "    1024 |       500 |        72 |      265.0\n",
      "    1024 |      5000 |      4368 |     341.33\n",
      "   64000 |         5 |         0 |        5.0\n",
      "   64000 |        50 |         0 |       50.0\n",
      "   64000 |       500 |         0 |     495.33\n",
      "   64000 |      5000 |         9 |    4452.67\n",
      "\n",
      "Результаты для k = 4:\n",
      "bf_size  | set_size  | fp_count  | ones_count\n",
      "---------|-----------|-----------|-----------\n",
      "       8 |         5 |         2 |        1.5\n",
      "       8 |        50 |        45 |        2.0\n",
      "       8 |       500 |       496 |        2.0\n",
      "       8 |      5000 |      4995 |        2.0\n",
      "      64 |         5 |         0 |        4.0\n",
      "      64 |        50 |        21 |      15.25\n",
      "      64 |       500 |       466 |       16.0\n",
      "      64 |      5000 |      4963 |       16.0\n",
      "    1024 |         5 |         0 |        5.0\n",
      "    1024 |        50 |         0 |       45.5\n",
      "    1024 |       500 |        87 |      219.5\n",
      "    1024 |      5000 |      4461 |      256.0\n",
      "   64000 |         5 |         0 |        5.0\n",
      "   64000 |        50 |         0 |      49.75\n",
      "   64000 |       500 |         0 |      494.0\n",
      "   64000 |      5000 |         3 |    4292.25\n"
     ]
    }
   ],
   "source": [
    "bf_sizes = [8, 64, 1024, 64000]\n",
    "set_sizes = [5, 50, 500, 5000]\n",
    "k_values = [1, 2, 3, 4]\n",
    "\n",
    "results = []\n",
    "\n",
    "for k in k_values:\n",
    "    print(f\"\\nРезультаты для k = {k}:\")\n",
    "\n",
    "    for i in bf_sizes:\n",
    "        for j in set_sizes:\n",
    "            bf = BloomFilter(k, i)\n",
    "            fp_count = 0\n",
    "            with open(\"Size_\" + str(j), 'r') as file:\n",
    "                for s in file:\n",
    "                    result = bf.get(s.strip())\n",
    "                    if result: \n",
    "                        fp_count += 1\n",
    "                    bf.put(s.strip())\n",
    "\n",
    "            ones_count = round(bf.get_size(), 2)\n",
    "\n",
    "            results.append([k, i, j, fp_count, ones_count])\n",
    "\n",
    "    print(\"bf_size  | set_size  | fp_count  | ones_count\")\n",
    "    print(\"---------|-----------|-----------|-----------\")\n",
    "\n",
    "\n",
    "    for k_val, bf_size, set_size, fp_count, ones_count in results:\n",
    "        print(f\"{bf_size:8} | {set_size:9} | {fp_count:9} | {ones_count:10}\")\n",
    "\n",
    "    results.clear()\n"
   ]
  },
  {
   "cell_type": "markdown",
   "id": "0b15ee86-284f-4267-ab58-32154d1cf1b6",
   "metadata": {},
   "source": [
    "Результаты выглядят корректными:\n",
    "1) для 1 хеш функции результат совпадает с предыдущим пунктом\n",
    "2) Вероятность коллизии зависит не только  от размера словаря, но и колчества хеш-функций"
   ]
  },
  {
   "cell_type": "markdown",
   "id": "7cb3d3a1-1c9b-4eef-a6cd-3ca7f6e5288c",
   "metadata": {},
   "source": [
    "Задание 3 Реализуем Counting Bloom Filter на к хеш-функций."
   ]
  },
  {
   "cell_type": "code",
   "execution_count": 7,
   "id": "52ceb933-c05b-416c-9744-79fd0bb7a795",
   "metadata": {},
   "outputs": [],
   "source": [
    "class CountingBloomFilter:\n",
    "    def __init__(self, k, n, cap):\n",
    "        self.k = k\n",
    "        self.n = n\n",
    "        self.cap = cap\n",
    "        self.array = np.zeros((n // cap + 1, cap), dtype=np.uint32)\n",
    "        self.t = list(range(k)) \n",
    "\n",
    "    def put(self, item):\n",
    "        for t in self.t:\n",
    "            index = mmh3.hash(item, t) % (self.n // self.cap)\n",
    "            pos = t % self.cap\n",
    "            if self.array[index][pos] < self.cap: \n",
    "                self.array[index][pos] += 1\n",
    "\n",
    "    def get(self, item):\n",
    "        for seed in self.t:\n",
    "            index = mmh3.hash(item, seed) % (self.n // self.cap)\n",
    "            if self.array[index][seed % self.cap] == 0:\n",
    "                return False\n",
    "        return True\n",
    "\n",
    "    def get_size(self):\n",
    "\n",
    "        return np.sum(self.array)/k"
   ]
  },
  {
   "cell_type": "markdown",
   "id": "d6aa340c-afdc-4f51-a3b5-c7420f6d9ce7",
   "metadata": {},
   "source": [
    "Проверим реализацию"
   ]
  },
  {
   "cell_type": "code",
   "execution_count": 8,
   "id": "ed9368c0-3897-49de-bb11-8bf95cd990b8",
   "metadata": {},
   "outputs": [
    {
     "name": "stdout",
     "output_type": "stream",
     "text": [
      "\n",
      "Результаты для k = 1:\n",
      "bf_size  | set_size  | cap    | fp_count  | ones_count\n",
      "---------|-----------|--------|-----------|-----------\n",
      "    1024 |         5 |      1 |         0 |        5.0\n",
      "    1024 |        50 |      1 |         2 |       48.0\n",
      "    1024 |      5000 |      1 |      3984 |     1016.0\n",
      "    8192 |         5 |      1 |         0 |        5.0\n",
      "    8192 |        50 |      1 |         0 |       50.0\n",
      "    8192 |      5000 |      1 |      1265 |     3735.0\n",
      "  524288 |         5 |      1 |         0 |        5.0\n",
      "  524288 |        50 |      1 |         0 |       50.0\n",
      "  524288 |      5000 |      1 |        22 |     4978.0\n",
      "    1024 |         5 |      5 |         0 |        5.0\n",
      "    1024 |        50 |      5 |         4 |       50.0\n",
      "    1024 |      5000 |      5 |      4796 |     1020.0\n",
      "    8192 |         5 |      5 |         0 |        5.0\n",
      "    8192 |        50 |      5 |         3 |       50.0\n",
      "    8192 |      5000 |      5 |      3449 |     4756.0\n",
      "  524288 |         5 |      5 |         0 |        5.0\n",
      "  524288 |        50 |      5 |         0 |       50.0\n",
      "  524288 |      5000 |      5 |       108 |     5000.0\n",
      "    1024 |         5 |     10 |         0 |        5.0\n",
      "    1024 |        50 |     10 |         9 |       50.0\n",
      "    1024 |      5000 |     10 |      4898 |     1020.0\n",
      "    8192 |         5 |     10 |         0 |        5.0\n",
      "    8192 |        50 |     10 |         5 |       50.0\n",
      "    8192 |      5000 |     10 |      4183 |     4936.0\n",
      "  524288 |         5 |     10 |         0 |        5.0\n",
      "  524288 |        50 |     10 |         0 |       50.0\n",
      "  524288 |      5000 |     10 |       240 |     5000.0\n",
      "\n",
      "Результаты для k = 2:\n",
      "bf_size  | set_size  | cap    | fp_count  | ones_count\n",
      "---------|-----------|--------|-----------|-----------\n",
      "    1024 |         5 |      1 |         0 |        5.0\n",
      "    1024 |        50 |      1 |         0 |       47.5\n",
      "    1024 |      5000 |      1 |      4222 |      512.0\n",
      "    8192 |         5 |      1 |         0 |        5.0\n",
      "    8192 |        50 |      1 |         0 |       49.5\n",
      "    8192 |      5000 |      1 |      1093 |     2881.5\n",
      "  524288 |         5 |      1 |         0 |        5.0\n",
      "  524288 |        50 |      1 |         0 |       50.0\n",
      "  524288 |      5000 |      1 |         0 |     4955.5\n",
      "    1024 |         5 |      5 |         0 |        5.0\n",
      "    1024 |        50 |      5 |         0 |       50.0\n",
      "    1024 |      5000 |      5 |      4700 |     1020.0\n",
      "    8192 |         5 |      5 |         0 |        5.0\n",
      "    8192 |        50 |      5 |         0 |       50.0\n",
      "    8192 |      5000 |      5 |      2700 |     4747.5\n",
      "  524288 |         5 |      5 |         0 |        5.0\n",
      "  524288 |        50 |      5 |         0 |       50.0\n",
      "  524288 |      5000 |      5 |         1 |     5000.0\n",
      "    1024 |         5 |     10 |         0 |        5.0\n",
      "    1024 |        50 |     10 |         1 |       50.0\n",
      "    1024 |      5000 |     10 |      4852 |     1020.0\n",
      "    8192 |         5 |     10 |         0 |        5.0\n",
      "    8192 |        50 |     10 |         1 |       50.0\n",
      "    8192 |      5000 |     10 |      3778 |     4927.0\n",
      "  524288 |         5 |     10 |         0 |        5.0\n",
      "  524288 |        50 |     10 |         0 |       50.0\n",
      "  524288 |      5000 |     10 |        12 |     5000.0\n",
      "\n",
      "Результаты для k = 3:\n",
      "bf_size  | set_size  | cap    | fp_count  | ones_count\n",
      "---------|-----------|--------|-----------|-----------\n",
      "    1024 |         5 |      1 |         0 |        5.0\n",
      "    1024 |        50 |      1 |         0 |      47.67\n",
      "    1024 |      5000 |      1 |      4365 |     341.33\n",
      "    8192 |         5 |      1 |         0 |        5.0\n",
      "    8192 |        50 |      1 |         0 |      49.67\n",
      "    8192 |      5000 |      1 |      1227 |     2292.0\n",
      "  524288 |         5 |      1 |         0 |        5.0\n",
      "  524288 |        50 |      1 |         0 |       50.0\n",
      "  524288 |      5000 |      1 |         0 |    4931.67\n",
      "    1024 |         5 |      5 |         0 |        5.0\n",
      "    1024 |        50 |      5 |         0 |       50.0\n",
      "    1024 |      5000 |      5 |      4631 |     1020.0\n",
      "    8192 |         5 |      5 |         0 |        5.0\n",
      "    8192 |        50 |      5 |         0 |       50.0\n",
      "    8192 |      5000 |      5 |      2251 |    4748.33\n",
      "  524288 |         5 |      5 |         0 |        5.0\n",
      "  524288 |        50 |      5 |         0 |       50.0\n",
      "  524288 |      5000 |      5 |         0 |     5000.0\n",
      "    1024 |         5 |     10 |         0 |        5.0\n",
      "    1024 |        50 |     10 |         0 |       50.0\n",
      "    1024 |      5000 |     10 |      4824 |     1020.0\n",
      "    8192 |         5 |     10 |         0 |        5.0\n",
      "    8192 |        50 |     10 |         0 |       50.0\n",
      "    8192 |      5000 |     10 |      3518 |    4928.67\n",
      "  524288 |         5 |     10 |         0 |        5.0\n",
      "  524288 |        50 |     10 |         0 |       50.0\n",
      "  524288 |      5000 |     10 |         2 |     5000.0\n"
     ]
    }
   ],
   "source": [
    "bf_sizes = [1024, 8192, 524288]\n",
    "set_sizes = [5, 50, 5000]\n",
    "k_values = [1, 2, 3]\n",
    "cap_values = [1, 5, 10]  \n",
    "\n",
    "result = []\n",
    "for k in k_values:\n",
    "    print(f\"\\nРезультаты для k = {k}:\")    \n",
    "    for cap in cap_values:\n",
    "        for n in bf_sizes:\n",
    "            for size in set_sizes:\n",
    "                bf = CountingBloomFilter(k, n, cap)\n",
    "                fp_count = 0\n",
    "                with open(\"Size_\" + str(size), 'r') as file:\n",
    "                    for s in file:\n",
    "                        if bf.get(s):\n",
    "                            fp_count += 1\n",
    "                        bf.put(s)\n",
    "\n",
    "                result.append([cap, n, size, fp_count, np.round(bf.get_size(),2)])  \n",
    "    \n",
    "    print(\"bf_size  | set_size  | cap    | fp_count  | ones_count\")\n",
    "    print(\"---------|-----------|--------|-----------|-----------\")\n",
    "\n",
    "    for cap_val, bf_size, set_size, fp_count, ones_count in result:  \n",
    "        print(f\"{bf_size:8} | {set_size:9} | {cap_val:6} | {fp_count:9} | {ones_count:10}\")\n",
    "\n",
    "    result.clear() \n"
   ]
  },
  {
   "cell_type": "markdown",
   "id": "20bb49e4-f0ee-4a3e-b635-a069fa09567b",
   "metadata": {},
   "source": [
    "При cap = 1 результат совпадает с предыдущими реализациями. Вероятность коллизии зависит не только  от размера словаря( и cap соответственно), но и колчества хеш-функций"
   ]
  },
  {
   "cell_type": "markdown",
   "id": "8af07036-f7e1-4a2d-897a-befb42926846",
   "metadata": {},
   "source": [
    "Задание 4"
   ]
  },
  {
   "cell_type": "markdown",
   "id": "95c1b65f-ebec-4743-a032-135c82ce551b",
   "metadata": {},
   "source": [
    "Реализуем HyperLogLog"
   ]
  },
  {
   "cell_type": "code",
   "execution_count": 43,
   "id": "20fa4a63-85a3-45e9-89d1-8730be9c8241",
   "metadata": {},
   "outputs": [],
   "source": [
    "class HyperLogLog:\n",
    "    def __init__(self, b):\n",
    "        self.b = b\n",
    "        self.m = 1 << b\n",
    "        self.M = [0] * self.m\n",
    "\n",
    "    def put(self, s):\n",
    "        \n",
    "        x = mmh3.hash(s, signed=False)\n",
    "        x_bin = bin(x)[2:].zfill(32)\n",
    "        j = int(x_bin[:self.b], 2)\n",
    "        w = x_bin[self.b:]\n",
    "\n",
    "        r = next((i + 1 for i, bit in enumerate(w) if bit == '1'), len(w) + 1)\n",
    "        \n",
    "        self.M[j] = max(self.M[j], r)\n",
    "\n",
    "    def est_size(self):\n",
    "        z = sum(2 ** (-m) for m in self.M)\n",
    "        Z = 1 / z\n",
    "        \n",
    "        alpha_m = 0.7213 / (1 + 1.079 / self.m) if self.m >= 128 else \\\n",
    "                   (self.m * quad(lambda x: math.log2((2+x)/(1+x))**self.m, 0, float('+inf'))[0]) ** (-1)\n",
    "        \n",
    "        E = alpha_m * self.m**2 * Z\n",
    "        \n",
    "        if E <= 2.5 * self.m:\n",
    "            V = sum(1 for m in self.M if m == 0)\n",
    "            if V > 0:\n",
    "                E = self.m * math.log(self.m / V)\n",
    "        elif E > (1/30) * (1 << 32):\n",
    "            E = -(1 << 32) * math.log(1 - E / (1 << 32))\n",
    "        \n",
    "        return round(E)\n"
   ]
  },
  {
   "cell_type": "code",
   "execution_count": 44,
   "id": "b7720dce-ec34-42fb-9da5-5728bccbae95",
   "metadata": {},
   "outputs": [
    {
     "name": "stdout",
     "output_type": "stream",
     "text": [
      "b  | est_size  | error \n",
      "---|-----------|-------\n",
      " 1 |       479 |    0.84 \n",
      "---|-----------|-------\n",
      "b  | est_size  | error \n",
      "---|-----------|-------\n",
      " 2 |       793 |    0.74 \n",
      "---|-----------|-------\n",
      "b  | est_size  | error \n",
      "---|-----------|-------\n",
      " 8 |      1060 |    0.65 \n",
      "---|-----------|-------\n"
     ]
    }
   ],
   "source": [
    "b = [1, 2, 8]\n",
    "for i in b:\n",
    "        hyper_log_log = HyperLogLog(i)\n",
    "        with open(\"1_vers\",'r') as file:\n",
    "            for s in file:\n",
    "                result = s.strip().split(':')[0]\n",
    "                hyper_log_log.put(result)\n",
    "        est_size = hyper_log_log.est_size()\n",
    "        error = np.round(abs(est_size - 3000) / 3000, 2)\n",
    "        print(\"b  | est_size  | error \")\n",
    "        print(\"---|-----------|-------\")\n",
    "        print(f\"{i:2} | {est_size:9} | {error:7} \")\n",
    "        print(\"---|-----------|-------\")"
   ]
  },
  {
   "cell_type": "markdown",
   "id": "e3b809fa-6e21-4890-9a49-1994339fb5ee",
   "metadata": {},
   "source": [
    "Сгенерируем 2 случая: уникальный набор и неуникальный"
   ]
  },
  {
   "cell_type": "code",
   "execution_count": 45,
   "id": "98b966b0-4da7-4b31-8965-ba5a0b4ca3f0",
   "metadata": {},
   "outputs": [],
   "source": [
    "gen_grouped_seq (\"1_vers\",  [(1000, 1), (1, 2000)])\n",
    "gen_uniq_seq (\"2_vers\",  3000)"
   ]
  },
  {
   "cell_type": "code",
   "execution_count": 46,
   "id": "f5c2358c-cb70-4161-ad48-ceee7e9e3930",
   "metadata": {},
   "outputs": [
    {
     "name": "stdout",
     "output_type": "stream",
     "text": [
      "b  | est_size  | error \n",
      "---|-----------|-------\n",
      " 1 |     10229 |    2.41 \n",
      "---|-----------|-------\n",
      "b  | est_size  | error \n",
      "---|-----------|-------\n",
      " 2 |     10737 |    2.58 \n",
      "---|-----------|-------\n",
      "b  | est_size  | error \n",
      "---|-----------|-------\n",
      " 8 |      2902 |    0.03 \n",
      "---|-----------|-------\n"
     ]
    }
   ],
   "source": [
    "b = [1, 2, 8]\n",
    "for i in b:\n",
    "        hyper_log_log = HyperLogLog(i)\n",
    "        with open(\"2_vers\",'r') as file:\n",
    "            for s in file:\n",
    "                result = s.strip().split(':')[0]\n",
    "                hyper_log_log.put(result)\n",
    "        est_size = hyper_log_log.est_size()\n",
    "        error = np.round(abs(est_size - 3000) / 3000, 2)\n",
    "        print(\"b  | est_size  | error \")\n",
    "        print(\"---|-----------|-------\")\n",
    "        print(f\"{i:2} | {est_size:9} | {error:7} \")\n",
    "        print(\"---|-----------|-------\")"
   ]
  },
  {
   "cell_type": "markdown",
   "id": "befc0047-3631-4834-b41f-5b533f954604",
   "metadata": {},
   "source": [
    "Наблюдаем, что из-за дубликатов общее количество элементов может быть меньше ожидаемого, что приводит к снижению точности подсчета. При увеличении b увеличивается точность предсказания."
   ]
  },
  {
   "cell_type": "markdown",
   "id": "1b6612b6-044c-4f81-9133-f8c7a96b06ab",
   "metadata": {},
   "source": [
    "Задание 5"
   ]
  },
  {
   "cell_type": "markdown",
   "id": "b6a641de-6d33-4025-9706-26746a7f2060",
   "metadata": {},
   "source": [
    "Реализуем функцию для поиска частных ключей. В нашей задаче возьмем как предельный случай k = 10 миллиардов / 60000"
   ]
  },
  {
   "cell_type": "code",
   "execution_count": 47,
   "id": "f06b2df7-ca28-490c-9368-2f2c4b90ae21",
   "metadata": {},
   "outputs": [],
   "source": [
    "class Counter:\n",
    "    def __init__(self, k: int, threshold: int):\n",
    "        self.k = k\n",
    "        self.threshold = threshold\n",
    "        self.items = {}\n",
    "        self.processed_count = 0\n",
    "        self.frequent_items = {}\n",
    "\n",
    "    def add_one(self, item: str):\n",
    "        self.processed_count += 1\n",
    "\n",
    "        if item in self.items:\n",
    "            self.items[item] += 1\n",
    "            if self.items[item] > self.threshold:\n",
    "                self.frequent_items[item] = self.items[item]\n",
    "        else:\n",
    "            if len(self.items) < self.k - 1:\n",
    "                self.items[item] = 1\n",
    "            else:\n",
    "                items_copy = self.items.copy()\n",
    "                i = 0\n",
    "                while i < len(items_copy):\n",
    "                    key, value = list(items_copy.items())[i]\n",
    "                    items_copy[key] = max(value - 1, 0)\n",
    "                    if items_copy[key] == 0:\n",
    "                        del items_copy[key]\n",
    "                        i -= 1\n",
    "                    i += 1\n",
    "                self.items = items_copy\n",
    "\n",
    "    def add(self, items: list):\n",
    "        for item in items:\n",
    "            self.add_one(item)\n",
    "\n",
    "    def get(self, key: str):\n",
    "        return self.items.get(key, 0)\n",
    "\n",
    "    def get_frequent_items(self):\n",
    "        return self.frequent_items\n",
    "\n",
    "def find_keys(filename: str, k: int, threshold: int):\n",
    "    h = Counter(k, threshold)\n",
    "\n",
    "    with open(filename, 'r') as f:\n",
    "        for line in f:\n",
    "            items = line.split()\n",
    "            h.add(items)\n",
    "\n",
    "    return h.get_frequent_items()"
   ]
  },
  {
   "cell_type": "markdown",
   "id": "887d30d1-2f9c-411c-bf8e-493f6c160b4d",
   "metadata": {},
   "source": [
    "Сгенерируем тестовые файлы"
   ]
  },
  {
   "cell_type": "code",
   "execution_count": 48,
   "id": "5ea44aa7-dc5a-4a03-bb6c-4cd61f928b43",
   "metadata": {},
   "outputs": [],
   "source": [
    "gen_grouped_seq (\"1_csv\",  [(2000, 1), (6, 500)])\n",
    "gen_grouped_seq (\"2_csv\",  [(3000, 1), (3, 10000)] )"
   ]
  },
  {
   "cell_type": "markdown",
   "id": "84c38d69-fa52-4e36-add6-12ccf708bf73",
   "metadata": {},
   "source": [
    "Соберем тяжелые ключи из каждого файла"
   ]
  },
  {
   "cell_type": "code",
   "execution_count": 49,
   "id": "a6fafb94-6d57-48b1-a5d4-43449cbd363a",
   "metadata": {},
   "outputs": [
    {
     "data": {
      "text/plain": [
       "{'2000:df55c821-8bc9-4cbd-aedb-a017fb207c24': 500,\n",
       " '2001:6c0e5f23-66e1-4741-a223-b0a3acee2423': 500,\n",
       " '2002:f0604c9e-8b1c-40e6-899f-50649d20706e': 500,\n",
       " '2003:4e44b9c9-d373-4081-952e-9b734ccf490a': 500,\n",
       " '2004:f372f192-cb78-46ff-83f6-3e032a136e2a': 500,\n",
       " '2005:87b5cd26-54a8-4ae7-9f89-61f91014b648': 500}"
      ]
     },
     "execution_count": 49,
     "metadata": {},
     "output_type": "execute_result"
    }
   ],
   "source": [
    "keys_1 = find_keys(\"1_csv\", 10, 400)\n",
    "keys_1"
   ]
  },
  {
   "cell_type": "code",
   "execution_count": 50,
   "id": "834c6cad-394c-4274-b6b1-79b43de59db0",
   "metadata": {},
   "outputs": [
    {
     "data": {
      "text/plain": [
       "['3000:4b6f0e7e-3337-42fe-9067-91c357b85d45',\n",
       " '3001:8b1900b2-864d-4074-bd66-4a6c0f4a3dba',\n",
       " '3002:b9e06965-bc38-4620-82bb-e2e74ac4e35f']"
      ]
     },
     "execution_count": 50,
     "metadata": {},
     "output_type": "execute_result"
    }
   ],
   "source": [
    "keys_2 = find_keys(\"2_csv\", 10, 400)\n",
    "list(keys_2.keys())"
   ]
  },
  {
   "cell_type": "markdown",
   "id": "efe941dc-971f-4828-9312-f5b088cb3df7",
   "metadata": {},
   "source": [
    "Если у двух таблиц будет общий ключ и в каждой таблице по этому ключу будет более 60000 записей - то будут проблемы. Найдем пересечение ( если такое найдется, то исключим записи по этому ключу из джойна)"
   ]
  },
  {
   "cell_type": "code",
   "execution_count": 51,
   "id": "09f1f223-774d-44f8-a396-63175601cd7f",
   "metadata": {},
   "outputs": [
    {
     "data": {
      "text/plain": [
       "[]"
      ]
     },
     "execution_count": 51,
     "metadata": {},
     "output_type": "execute_result"
    }
   ],
   "source": [
    "conflicting_keys  = [key for key in keys_1 if key in keys_2]\n",
    "conflicting_keys"
   ]
  },
  {
   "cell_type": "code",
   "execution_count": 52,
   "id": "26e0790b-f4ae-443a-9eb1-b9d2aca6afc5",
   "metadata": {},
   "outputs": [
    {
     "data": {
      "text/plain": [
       "['2000:df55c821-8bc9-4cbd-aedb-a017fb207c24',\n",
       " '2001:6c0e5f23-66e1-4741-a223-b0a3acee2423',\n",
       " '2002:f0604c9e-8b1c-40e6-899f-50649d20706e',\n",
       " '2003:4e44b9c9-d373-4081-952e-9b734ccf490a',\n",
       " '2004:f372f192-cb78-46ff-83f6-3e032a136e2a',\n",
       " '2005:87b5cd26-54a8-4ae7-9f89-61f91014b648']"
      ]
     },
     "execution_count": 52,
     "metadata": {},
     "output_type": "execute_result"
    }
   ],
   "source": [
    "conflicting_keys  = [key for key in keys_1 if key in keys_1]\n",
    "conflicting_keys"
   ]
  },
  {
   "cell_type": "markdown",
   "id": "0036f50a-191b-470d-8434-d06caf232747",
   "metadata": {},
   "source": [
    "Задание 6"
   ]
  },
  {
   "cell_type": "markdown",
   "id": "2654fefb-894f-444f-a642-43ae5f6ee412",
   "metadata": {},
   "source": [
    "Оценим количество потенциальных ключей в каждом из файлов"
   ]
  },
  {
   "cell_type": "code",
   "execution_count": 189,
   "id": "a3363ffc-adfd-4d54-be09-039e557a2a48",
   "metadata": {},
   "outputs": [],
   "source": [
    "gen_grouped_seq (\"6_1\",  [(70000, 1), (5, 10000)] , to_shuffle= True)\n",
    "gen_uniq_seq(\"6_2\", 10000)"
   ]
  },
  {
   "cell_type": "code",
   "execution_count": 190,
   "id": "e7cc5234-e279-4eb2-a248-004385ea3aee",
   "metadata": {},
   "outputs": [],
   "source": [
    "def split_file():\n",
    "    with open(\"6_1\", 'r') as file:\n",
    "        content = file.read()\n",
    "    half_size = len(content) // 2\n",
    "    first_half = content[:half_size]\n",
    "    second_half = content[half_size:]\n",
    "    with open(\"6_3\", 'w') as new_file:\n",
    "        new_file.write(first_half)\n",
    "split_file()"
   ]
  },
  {
   "cell_type": "code",
   "execution_count": 191,
   "id": "23b0d558-6012-47c4-9f17-4f703239fe45",
   "metadata": {},
   "outputs": [
    {
     "name": "stdout",
     "output_type": "stream",
     "text": [
      "количество ключей 69851\n"
     ]
    }
   ],
   "source": [
    "b = [16]\n",
    "for i in b:\n",
    "        hyper_log_log = HyperLogLog(i)\n",
    "        with open(\"6_1\",'r') as file:\n",
    "            for s in file:\n",
    "                result = s.strip().split(':')[0]\n",
    "                hyper_log_log.put(result)\n",
    "print(\"количество ключей\", hyper_log_log.est_size())"
   ]
  },
  {
   "cell_type": "code",
   "execution_count": 192,
   "id": "5ccbcd46-c14b-4a19-87b9-18d8e1c50fa6",
   "metadata": {},
   "outputs": [
    {
     "name": "stdout",
     "output_type": "stream",
     "text": [
      "количество ключей 9945\n"
     ]
    }
   ],
   "source": [
    "b = [16]\n",
    "for i in b:\n",
    "        hyper_log_log = HyperLogLog(i)\n",
    "        with open(\"6_2\",'r') as file:\n",
    "            for s in file:\n",
    "                result = s.strip().split(':')[0]\n",
    "                hyper_log_log.put(result)\n",
    "print(\"количество ключей\", hyper_log_log.est_size())"
   ]
  },
  {
   "cell_type": "code",
   "execution_count": 181,
   "id": "0fdfbc97-3b30-4d03-9a92-0c121030f859",
   "metadata": {},
   "outputs": [
    {
     "name": "stdout",
     "output_type": "stream",
     "text": [
      "количество ключей 24986\n"
     ]
    }
   ],
   "source": [
    "b = [16]\n",
    "for i in b:\n",
    "        hyper_log_log = HyperLogLog(i)\n",
    "        with open(\"6_3\",'r') as file:\n",
    "            for s in file:\n",
    "                result = s.strip().split(':')[0]\n",
    "                hyper_log_log.put(result)\n",
    "        est_size = hyper_log_log.est_size()\n",
    "print(\"количество ключей\", hyper_log_log.est_size())"
   ]
  },
  {
   "cell_type": "markdown",
   "id": "7d29e450-ea76-4505-a2a7-45fe08871072",
   "metadata": {},
   "source": [
    "Если в результате суммарное количество уникальных ключей будет безопасно для полного джойна, то можно остановиться на этом моменте."
   ]
  },
  {
   "cell_type": "markdown",
   "id": "e747b65f-e06f-4f79-a0db-f0aa647a0ce7",
   "metadata": {},
   "source": [
    "Найдем оптимальные парметры для фильтра ( сразу заложим по объемам 2-х ключей, предполагая что вдруг они все уникальные будут...)"
   ]
  },
  {
   "cell_type": "code",
   "execution_count": 182,
   "id": "0b53f96f-25d1-48d8-addd-50ac09abfadf",
   "metadata": {},
   "outputs": [],
   "source": [
    "def optimal_size(n, p):\n",
    "    return -int(n * math.log(p) / (math.log(2) ** 2))\n",
    "\n",
    "def optimal_hashes(m, n):\n",
    "    return max(1, int((m / n) * math.log(2)))"
   ]
  },
  {
   "cell_type": "code",
   "execution_count": 204,
   "id": "84f06de7-2e47-42dd-b23b-ca9e1e4fa45a",
   "metadata": {},
   "outputs": [
    {
     "data": {
      "text/plain": [
       "958505"
      ]
     },
     "execution_count": 204,
     "metadata": {},
     "output_type": "execute_result"
    }
   ],
   "source": [
    "optimal_size(100000, 0.01)"
   ]
  },
  {
   "cell_type": "code",
   "execution_count": 205,
   "id": "4de734f0-a85e-4c8c-9a72-4499458a93f3",
   "metadata": {},
   "outputs": [
    {
     "data": {
      "text/plain": [
       "6"
      ]
     },
     "execution_count": 205,
     "metadata": {},
     "output_type": "execute_result"
    }
   ],
   "source": [
    "optimal_hashes (958505, 100000)"
   ]
  },
  {
   "cell_type": "markdown",
   "id": "9d9f25a6-cf98-4255-855a-fb2bf5d84472",
   "metadata": {},
   "source": [
    "Заполним наш фильтр, применим его к другому файлу"
   ]
  },
  {
   "cell_type": "code",
   "execution_count": 206,
   "id": "50ec7f7d-2fab-4213-a865-5baf70f21744",
   "metadata": {},
   "outputs": [
    {
     "data": {
      "text/plain": [
       "56689.67"
      ]
     },
     "execution_count": 206,
     "metadata": {},
     "output_type": "execute_result"
    }
   ],
   "source": [
    "bf = BloomFilter(6, 958505)\n",
    "with open(\"6_1\", 'r') as file:\n",
    "    for s in file:\n",
    "        bf.put(s.strip())\n",
    "ones_count = round(bf.get_size(), 2)\n",
    "ones_count"
   ]
  },
  {
   "cell_type": "code",
   "execution_count": 207,
   "id": "2e5ee844-305b-462a-91d0-9cd9c2ab7902",
   "metadata": {},
   "outputs": [
    {
     "data": {
      "text/plain": [
       "56690.5"
      ]
     },
     "execution_count": 207,
     "metadata": {},
     "output_type": "execute_result"
    }
   ],
   "source": [
    "with open(\"6_3\", 'r') as file:\n",
    "    for s in file:\n",
    "        bf.put(s.strip())\n",
    "ones_count = round(bf.get_size(), 2)\n",
    "ones_count"
   ]
  },
  {
   "cell_type": "markdown",
   "id": "aa25b880-9793-4139-b1ea-7b87f0f61eac",
   "metadata": {},
   "source": [
    "Здесь можем наблюдать, что т.к один был образован из другого у нас практически не поменялся размер"
   ]
  },
  {
   "cell_type": "code",
   "execution_count": 210,
   "id": "2be8b4af-3dd4-4150-81ae-a75d61c1ed8e",
   "metadata": {},
   "outputs": [
    {
     "data": {
      "text/plain": [
       "56689.67"
      ]
     },
     "execution_count": 210,
     "metadata": {},
     "output_type": "execute_result"
    }
   ],
   "source": [
    "bf = BloomFilter(6, 958505)\n",
    "with open(\"6_1\", 'r') as file:\n",
    "    for s in file:\n",
    "        bf.put(s.strip())\n",
    "ones_count = round(bf.get_size(), 2)\n",
    "ones_count"
   ]
  },
  {
   "cell_type": "code",
   "execution_count": 209,
   "id": "e28fa78a-0c1e-4d23-b246-3214d830ef02",
   "metadata": {},
   "outputs": [
    {
     "data": {
      "text/plain": [
       "57136.0"
      ]
     },
     "execution_count": 209,
     "metadata": {},
     "output_type": "execute_result"
    }
   ],
   "source": [
    "with open(\"6_2\", 'r') as file:\n",
    "    for s in file:\n",
    "        bf.put(s.strip())\n",
    "ones_count = round(bf.get_size(), 2)\n",
    "ones_count"
   ]
  },
  {
   "cell_type": "markdown",
   "id": "85cbf449-7905-4a48-b18f-981a49c1844c",
   "metadata": {},
   "source": [
    "Здесь уже поймали уникальные значения"
   ]
  }
 ],
 "metadata": {
  "kernelspec": {
   "display_name": "Python 3 (ipykernel)",
   "language": "python",
   "name": "python3"
  },
  "language_info": {
   "codemirror_mode": {
    "name": "ipython",
    "version": 3
   },
   "file_extension": ".py",
   "mimetype": "text/x-python",
   "name": "python",
   "nbconvert_exporter": "python",
   "pygments_lexer": "ipython3",
   "version": "3.10.12"
  }
 },
 "nbformat": 4,
 "nbformat_minor": 5
}
